{
 "cells": [
  {
   "cell_type": "code",
   "execution_count": 1,
   "metadata": {
    "collapsed": true
   },
   "outputs": [],
   "source": [
    "import os"
   ]
  },
  {
   "cell_type": "code",
   "execution_count": 6,
   "metadata": {
    "collapsed": false
   },
   "outputs": [],
   "source": [
    "from instagram.client import InstagramAPI\n",
    "\n",
    "INSTAGRAM_CLIENT_ID = os.environ['INSTAGRAM_DD_CLIENT_ID']\n",
    "INSTAGRAM_CLIENT_SECRET = os.environ['INSTAGRAM_DD_CLIENT_SECRET']\n",
    "INSTAGRAM_ACCESS_TOKEN = os.environ['INSTAGRAM_DD_ACCESS_TOKEN']\n",
    "client_ip = '127.0.0.1'\n",
    "api = InstagramAPI(client_id=INSTAGRAM_CLIENT_ID, \n",
    "                   client_secret=INSTAGRAM_CLIENT_SECRET, \n",
    "                   client_ips=client_ip,\n",
    "                   access_token=INSTAGRAM_ACCESS_TOKEN)"
   ]
  },
  {
   "cell_type": "code",
   "execution_count": null,
   "metadata": {
    "collapsed": true
   },
   "outputs": [],
   "source": []
  },
  {
   "cell_type": "code",
   "execution_count": 7,
   "metadata": {
    "collapsed": true
   },
   "outputs": [],
   "source": [
    "def pullMediaByUser(user_id):\n",
    "    media, next_ = api.user_recent_media(user_id=user_id)\n",
    "    while next_:\n",
    "        more_media, next_ = api.user_recent_media(with_next_url=next_)\n",
    "        media.extend(more_media)\n",
    "        \n",
    "    return media"
   ]
  },
  {
   "cell_type": "code",
   "execution_count": 8,
   "metadata": {
    "collapsed": false
   },
   "outputs": [],
   "source": [
    "def pullMediaByHashtag(tag_name, count=100):\n",
    "    media, next_ = api.tag_recent_media(tag_name=tag_name)\n",
    "    while next_:\n",
    "        more_media, next_ = api.tag_recent_media(with_next_url=next_, tag_name=tag_name)\n",
    "        media.extend(more_media)\n",
    "        \n",
    "        if len(media) >= count:\n",
    "            break\n",
    "            \n",
    "        if len(media) % 1000 == 0:\n",
    "            print (len(media))\n",
    "        \n",
    "    return media"
   ]
  },
  {
   "cell_type": "code",
   "execution_count": null,
   "metadata": {
    "collapsed": false
   },
   "outputs": [],
   "source": []
  },
  {
   "cell_type": "code",
   "execution_count": 9,
   "metadata": {
    "collapsed": false
   },
   "outputs": [],
   "source": [
    "hashtagToPull = 'wakenbake'"
   ]
  },
  {
   "cell_type": "code",
   "execution_count": 10,
   "metadata": {
    "collapsed": false
   },
   "outputs": [
    {
     "name": "stdout",
     "output_type": "stream",
     "text": [
      "1000\n",
      "2000\n",
      "3000\n",
      "4000\n",
      "5000\n",
      "6000\n",
      "7000\n",
      "8000\n",
      "9000\n",
      "10000\n",
      "11000\n",
      "12000\n",
      "13000\n",
      "14000\n",
      "15000\n",
      "16000\n",
      "17000\n",
      "18000\n",
      "19000\n",
      "20000\n",
      "21000\n",
      "22000\n",
      "23000\n",
      "24000\n",
      "25000\n",
      "26000\n",
      "27000\n",
      "28000\n",
      "29000\n",
      "30000\n",
      "31000\n",
      "32000\n",
      "33000\n",
      "34000\n",
      "35000\n",
      "36000\n",
      "37000\n",
      "38000\n",
      "39000\n",
      "40000\n",
      "41000\n",
      "42000\n",
      "43000\n"
     ]
    }
   ],
   "source": [
    "recent_media = pullMediaByHashtag(hashtagToPull, 50000)"
   ]
  },
  {
   "cell_type": "code",
   "execution_count": 11,
   "metadata": {
    "collapsed": false
   },
   "outputs": [
    {
     "data": {
      "text/plain": [
       "50014"
      ]
     },
     "execution_count": 11,
     "metadata": {},
     "output_type": "execute_result"
    }
   ],
   "source": [
    "len(recent_media)"
   ]
  },
  {
   "cell_type": "code",
   "execution_count": 137,
   "metadata": {
    "collapsed": false
   },
   "outputs": [],
   "source": []
  },
  {
   "cell_type": "code",
   "execution_count": 12,
   "metadata": {
    "collapsed": false
   },
   "outputs": [
    {
     "name": "stdout",
     "output_type": "stream",
     "text": [
      "['__class__', '__delattr__', '__dict__', '__dir__', '__doc__', '__eq__', '__format__', '__ge__', '__getattribute__', '__gt__', '__hash__', '__init__', '__le__', '__lt__', '__module__', '__ne__', '__new__', '__reduce__', '__reduce_ex__', '__repr__', '__setattr__', '__sizeof__', '__str__', '__subclasshook__', '__unicode__', '__weakref__', 'caption', 'comment_count', 'comments', 'created_time', 'filter', 'get_low_resolution_url', 'get_standard_resolution_url', 'get_thumbnail_url', 'id', 'images', 'like_count', 'likes', 'link', 'object_from_dictionary', 'tags', 'type', 'user', 'user_has_liked', 'users_in_photo']\n"
     ]
    }
   ],
   "source": [
    "## see what's in the data\n",
    "print (dir(recent_media[1]))"
   ]
  },
  {
   "cell_type": "code",
   "execution_count": 15,
   "metadata": {
    "collapsed": false
   },
   "outputs": [],
   "source": [
    "data = []\n",
    "for media in recent_media:\n",
    "    item = {}\n",
    "\n",
    "    ## user details\n",
    "    item['username'] = media.user.username\n",
    "    item['user_id'] = media.user.id\n",
    "    \n",
    "    ## media details\n",
    "    item['id'] = media.id\n",
    "    item['type'] = media.type\n",
    "    item['filter'] = media.filter\n",
    "    item['created_time'] = media.created_time\n",
    "    \n",
    "    ## check if there is a caption\n",
    "    item['caption'] = ''\n",
    "    if media.caption != None:\n",
    "        item['caption'] = media.caption.text\n",
    "    \n",
    "    ## parse tags\n",
    "    item['tags'] = []\n",
    "    for tag in media.tags:\n",
    "        item['tags'].append(tag.name)\n",
    "    \n",
    "    ## parse comments\n",
    "    item['comment_count'] = media.comment_count\n",
    "    item['comments'] = []\n",
    "    for comment in media.comments:\n",
    "        entry = {}\n",
    "        entry['username'] = comment.user.username\n",
    "        entry['user_id'] = comment.user.id\n",
    "        entry['created_time'] = comment.created_at\n",
    "        entry['text'] = comment.text\n",
    "        item['comments'].append(entry)\n",
    "    \n",
    "    ## parse like information\n",
    "    item['like_count'] = media.like_count\n",
    "    ## adjust for liking own picture\n",
    "    if media.user_has_liked == True:\n",
    "        item['like_count'] -= 1\n",
    "    \n",
    "    ## parse location if available\n",
    "    item['location'] = {}\n",
    "    if 'location' in dir(media):\n",
    "        if 'latitude' in dir(media.location.point):\n",
    "            item['location']['latitude'] = media.location.point.latitude\n",
    "            item['location']['longitude'] = media.location.point.longitude\n",
    "    \n",
    "    data.append(item)"
   ]
  },
  {
   "cell_type": "code",
   "execution_count": null,
   "metadata": {
    "collapsed": false
   },
   "outputs": [],
   "source": []
  },
  {
   "cell_type": "code",
   "execution_count": 23,
   "metadata": {
    "collapsed": false
   },
   "outputs": [
    {
     "name": "stdout",
     "output_type": "stream",
     "text": [
      "{'tags': ['highsociety', 'plant', 'stoner', 'stoners', 'gethigh', 'instahigh', 'marijuana', 'cannabisculture', 'staylifted', 'cannabiscommunity', 'stoned', 'weshouldsmoke', 'pothead', 'fueledbythc', 'weedstagram', 'potheadsociety', 'hightimes', 'getlifted', 'potheads', 'calistoner', 'instaweed', 'letssmoke', 'cannabis', 'stayhigh', 'dank', 'highaf', 'blowingclouds', 'wakenbake', 'highlife'], 'username': 'mystical_stoner', 'comment_count': 1, 'comments': [{'text': '#Pothead #Stoner #Stoners #highaf #staylifted #cannabis #gethigh #marijuana #Calistoner #stayhigh #Weshouldsmoke #instaweed #stoned #cannabiscommunity #cannabisculture #potheadsociety #fueledbythc #getlifted #potheads #letssmoke #highsociety #instahigh #potheads #plant #highlife #hightimes #wakenbake #dank #weedstagram #blowingclouds', 'user_id': '1621796574', 'username': 'mystical_stoner', 'created_time': datetime.datetime(2015, 8, 14, 18, 56, 24)}], 'location': {}, 'type': 'image', 'created_time': datetime.datetime(2015, 8, 14, 18, 56, 14), 'like_count': 3, 'id': '1051583761891237133_1621796574', 'user_id': '1621796574', 'caption': 'All of you :)', 'filter': 'Normal'}\n",
      "\n",
      "{'tags': ['highsociety', 'plant', 'friday', 'stoner', 'stoners', 'gethigh', 'instahigh', 'marijuana', 'cannabisculture', 'staylifted', 'cannabiscommunity', 'stoned', 'weshouldsmoke', 'pothead', 'fueledbythc', 'weedstagram', 'potheadsociety', 'hightimes', 'getlifted', 'potheads', 'calistoner', 'highaf', 'letssmoke', 'cannabis', 'stayhigh', 'dank', 'instaweed', 'wakenbake', 'highlife'], 'username': 'mystical_stoner', 'comment_count': 1, 'comments': [{'text': '#Pothead #Stoner #Stoners #highaf #staylifted #cannabis #gethigh #marijuana #Calistoner #stayhigh #Weshouldsmoke #instaweed #stoned #cannabiscommunity #cannabisculture #potheadsociety #fueledbythc #getlifted #potheads #letssmoke #highsociety #instahigh #potheads #plant #highlife #hightimes #wakenbake #dank #weedstagram #friday', 'user_id': '1621796574', 'username': 'mystical_stoner', 'created_time': datetime.datetime(2015, 8, 14, 18, 55, 27)}], 'location': {}, 'type': 'image', 'created_time': datetime.datetime(2015, 8, 14, 18, 55, 17), 'like_count': 6, 'id': '1051583276660595965_1621796574', 'user_id': '1621796574', 'caption': 'lol :)', 'filter': 'Normal'}\n",
      "\n",
      "{'tags': ['wakenbake'], 'username': 'misscontroless1', 'comment_count': 0, 'comments': [], 'location': {}, 'type': 'image', 'created_time': datetime.datetime(2015, 8, 14, 18, 54, 44), 'like_count': 0, 'id': '1051583000928241682_1147602737', 'user_id': '1147602737', 'caption': '#wakenbake', 'filter': 'Reyes'}\n"
     ]
    }
   ],
   "source": [
    "## see what's in there\n",
    "\n",
    "print(data[0])\n",
    "print ('')\n",
    "print(data[1])\n",
    "print ('')\n",
    "print(data[2])"
   ]
  },
  {
   "cell_type": "code",
   "execution_count": null,
   "metadata": {
    "collapsed": false
   },
   "outputs": [],
   "source": []
  },
  {
   "cell_type": "code",
   "execution_count": 28,
   "metadata": {
    "collapsed": false
   },
   "outputs": [
    {
     "name": "stdout",
     "output_type": "stream",
     "text": [
      "2015-08-14 18:56:14\n",
      "2015-08-14 18:55:17\n",
      "2015-08-14 18:54:44\n",
      "2015-08-14 18:54:06\n",
      "2015-08-14 18:53:20\n",
      "2015-08-14 18:52:25\n",
      "2015-08-14 18:50:53\n",
      "2015-08-14 18:50:53\n",
      "2015-08-14 18:50:29\n",
      "2015-08-14 18:49:15\n"
     ]
    }
   ],
   "source": [
    "for item in data[:10]:\n",
    "    print(item['created_time'])"
   ]
  },
  {
   "cell_type": "code",
   "execution_count": 29,
   "metadata": {
    "collapsed": false
   },
   "outputs": [
    {
     "name": "stdout",
     "output_type": "stream",
     "text": [
      "2015-06-18 10:56:24\n",
      "2015-06-18 10:51:45\n",
      "2015-06-18 10:51:44\n",
      "2015-06-18 10:49:40\n",
      "2015-06-18 10:48:50\n",
      "2015-06-18 10:46:56\n",
      "2015-06-18 10:45:17\n",
      "2015-06-18 10:44:23\n",
      "2015-06-18 10:40:37\n",
      "2015-06-18 10:38:55\n"
     ]
    }
   ],
   "source": [
    "for item in data[-10:]:\n",
    "    print(item['created_time'])"
   ]
  },
  {
   "cell_type": "code",
   "execution_count": null,
   "metadata": {
    "collapsed": false
   },
   "outputs": [],
   "source": []
  },
  {
   "cell_type": "code",
   "execution_count": null,
   "metadata": {
    "collapsed": false
   },
   "outputs": [],
   "source": []
  },
  {
   "cell_type": "code",
   "execution_count": 30,
   "metadata": {
    "collapsed": true
   },
   "outputs": [],
   "source": [
    "## throw into mongo\n",
    "from pymongo import MongoClient"
   ]
  },
  {
   "cell_type": "code",
   "execution_count": 31,
   "metadata": {
    "collapsed": false
   },
   "outputs": [],
   "source": [
    "client = MongoClient('mongodb://localhost:27017/')\n",
    "db = client['instagram']\n",
    "collectionName = hashtagToPull + '-tags'\n",
    "collection = db[collectionName]"
   ]
  },
  {
   "cell_type": "code",
   "execution_count": 32,
   "metadata": {
    "collapsed": false
   },
   "outputs": [],
   "source": [
    "## clear what was in there before\n",
    "collection.drop()"
   ]
  },
  {
   "cell_type": "code",
   "execution_count": 33,
   "metadata": {
    "collapsed": false
   },
   "outputs": [
    {
     "data": {
      "text/plain": [
       "50014"
      ]
     },
     "execution_count": 33,
     "metadata": {},
     "output_type": "execute_result"
    }
   ],
   "source": [
    "result = collection.insert_many(data)\n",
    "len(result.inserted_ids)"
   ]
  },
  {
   "cell_type": "code",
   "execution_count": null,
   "metadata": {
    "collapsed": true
   },
   "outputs": [],
   "source": []
  }
 ],
 "metadata": {
  "kernelspec": {
   "display_name": "Python 3",
   "language": "python",
   "name": "python3"
  },
  "language_info": {
   "codemirror_mode": {
    "name": "ipython",
    "version": 3
   },
   "file_extension": ".py",
   "mimetype": "text/x-python",
   "name": "python",
   "nbconvert_exporter": "python",
   "pygments_lexer": "ipython3",
   "version": "3.3.5"
  }
 },
 "nbformat": 4,
 "nbformat_minor": 0
}
