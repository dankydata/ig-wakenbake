{
 "cells": [
  {
   "cell_type": "code",
   "execution_count": 1,
   "metadata": {
    "collapsed": true
   },
   "outputs": [],
   "source": [
    "import os\n",
    "from pymongo import MongoClient"
   ]
  },
  {
   "cell_type": "code",
   "execution_count": 2,
   "metadata": {
    "collapsed": false
   },
   "outputs": [],
   "source": [
    "from instagram.client import InstagramAPI\n",
    "\n",
    "INSTAGRAM_CLIENT_ID = os.environ['INSTAGRAM_DD_CLIENT_ID']\n",
    "INSTAGRAM_CLIENT_SECRET = os.environ['INSTAGRAM_DD_CLIENT_SECRET']\n",
    "INSTAGRAM_ACCESS_TOKEN = os.environ['INSTAGRAM_DD_ACCESS_TOKEN']\n",
    "client_ip = '127.0.0.1'\n",
    "api = InstagramAPI(client_id=INSTAGRAM_CLIENT_ID, \n",
    "                   client_secret=INSTAGRAM_CLIENT_SECRET, \n",
    "                   client_ips=client_ip,\n",
    "                   access_token=INSTAGRAM_ACCESS_TOKEN)"
   ]
  },
  {
   "cell_type": "code",
   "execution_count": null,
   "metadata": {
    "collapsed": true
   },
   "outputs": [],
   "source": []
  },
  {
   "cell_type": "code",
   "execution_count": 3,
   "metadata": {
    "collapsed": true
   },
   "outputs": [],
   "source": [
    "def pullMediaByUser(user_id):\n",
    "    media, next_ = api.user_recent_media(user_id=user_id)\n",
    "    while next_:\n",
    "        more_media, next_ = api.user_recent_media(with_next_url=next_)\n",
    "        media.extend(more_media)\n",
    "        \n",
    "    return media"
   ]
  },
  {
   "cell_type": "code",
   "execution_count": 4,
   "metadata": {
    "collapsed": false
   },
   "outputs": [],
   "source": [
    "def pullMediaByHashtag(tag_name, count=100):\n",
    "    media, next_ = api.tag_recent_media(tag_name=tag_name)\n",
    "    while next_:\n",
    "        more_media, next_ = api.tag_recent_media(with_next_url=next_, tag_name=tag_name)\n",
    "        media.extend(more_media)\n",
    "        \n",
    "        if len(media) >= count:\n",
    "            break\n",
    "            \n",
    "        if len(media) % 1000 == 0:\n",
    "            print (len(media))\n",
    "        \n",
    "    return media"
   ]
  },
  {
   "cell_type": "code",
   "execution_count": 20,
   "metadata": {
    "collapsed": false
   },
   "outputs": [],
   "source": [
    "def pullTagAndUploadIntoMongo(hashtag, numToPull):\n",
    "    recent_media = pullMediaByHashtag(hashtagToPull, numToPull)\n",
    "    print (\"Pulled records\")\n",
    "    \n",
    "    data = []\n",
    "    for media in recent_media:\n",
    "        item = {}\n",
    "\n",
    "        ## user details\n",
    "        item['username'] = media.user.username\n",
    "        item['user_id'] = media.user.id\n",
    "\n",
    "        ## media details\n",
    "        item['id'] = media.id\n",
    "        item['type'] = media.type\n",
    "        item['filter'] = media.filter\n",
    "        item['created_time'] = media.created_time\n",
    "\n",
    "        ## check if there is a caption\n",
    "        item['caption'] = ''\n",
    "        if media.caption != None:\n",
    "            item['caption'] = media.caption.text\n",
    "\n",
    "        ## parse tags\n",
    "        item['tags'] = []\n",
    "        for tag in media.tags:\n",
    "            item['tags'].append(tag.name)\n",
    "\n",
    "        ## parse comments\n",
    "        item['comment_count'] = media.comment_count\n",
    "        item['comments'] = []\n",
    "        for comment in media.comments:\n",
    "            entry = {}\n",
    "            entry['username'] = comment.user.username\n",
    "            entry['user_id'] = comment.user.id\n",
    "            entry['created_time'] = comment.created_at\n",
    "            entry['text'] = comment.text\n",
    "            item['comments'].append(entry)\n",
    "\n",
    "        ## parse like information\n",
    "        item['like_count'] = media.like_count\n",
    "        ## adjust for liking own picture\n",
    "        if media.user_has_liked == True:\n",
    "            item['like_count'] -= 1\n",
    "\n",
    "        ## parse location if available\n",
    "        item['location'] = {}\n",
    "        if 'location' in dir(media):\n",
    "            if 'latitude' in dir(media.location.point):\n",
    "                item['location']['latitude'] = media.location.point.latitude\n",
    "                item['location']['longitude'] = media.location.point.longitude\n",
    "\n",
    "        data.append(item)\n",
    "        \n",
    "    client = MongoClient('mongodb://localhost:27017/')\n",
    "    db = client['instagram']\n",
    "    collectionName = hashtag + '-tags'\n",
    "    collection = db[collectionName]\n",
    "    \n",
    "    result = collection.insert_many(data)\n",
    "    print (len(result.inserted_ids))"
   ]
  },
  {
   "cell_type": "code",
   "execution_count": 21,
   "metadata": {
    "collapsed": false
   },
   "outputs": [
    {
     "name": "stdout",
     "output_type": "stream",
     "text": [
      "1000\n",
      "2000\n",
      "3000\n",
      "4000\n",
      "5000\n",
      "6000\n",
      "7000\n",
      "8000\n",
      "9000\n",
      "Pulled records\n",
      "10000\n"
     ]
    }
   ],
   "source": [
    "pullTagAndUploadIntoMongo('water', 10000)"
   ]
  },
  {
   "cell_type": "code",
   "execution_count": null,
   "metadata": {
    "collapsed": true
   },
   "outputs": [],
   "source": []
  },
  {
   "cell_type": "code",
   "execution_count": null,
   "metadata": {
    "collapsed": false
   },
   "outputs": [],
   "source": []
  },
  {
   "cell_type": "code",
   "execution_count": null,
   "metadata": {
    "collapsed": false
   },
   "outputs": [],
   "source": []
  },
  {
   "cell_type": "code",
   "execution_count": null,
   "metadata": {
    "collapsed": false
   },
   "outputs": [],
   "source": []
  },
  {
   "cell_type": "code",
   "execution_count": null,
   "metadata": {
    "collapsed": false
   },
   "outputs": [],
   "source": []
  },
  {
   "cell_type": "code",
   "execution_count": 8,
   "metadata": {
    "collapsed": false
   },
   "outputs": [
    {
     "name": "stdout",
     "output_type": "stream",
     "text": [
      "['__class__', '__delattr__', '__dict__', '__dir__', '__doc__', '__eq__', '__format__', '__ge__', '__getattribute__', '__gt__', '__hash__', '__init__', '__le__', '__lt__', '__module__', '__ne__', '__new__', '__reduce__', '__reduce_ex__', '__repr__', '__setattr__', '__sizeof__', '__str__', '__subclasshook__', '__unicode__', '__weakref__', 'caption', 'comment_count', 'comments', 'created_time', 'filter', 'get_low_resolution_url', 'get_standard_resolution_url', 'get_thumbnail_url', 'id', 'images', 'like_count', 'likes', 'link', 'object_from_dictionary', 'tags', 'type', 'user', 'user_has_liked', 'users_in_photo']\n"
     ]
    }
   ],
   "source": [
    "## see what's in the data\n",
    "print (dir(recent_media[1]))"
   ]
  },
  {
   "cell_type": "code",
   "execution_count": null,
   "metadata": {
    "collapsed": false
   },
   "outputs": [],
   "source": []
  },
  {
   "cell_type": "code",
   "execution_count": null,
   "metadata": {
    "collapsed": false
   },
   "outputs": [],
   "source": []
  },
  {
   "cell_type": "code",
   "execution_count": 10,
   "metadata": {
    "collapsed": false
   },
   "outputs": [
    {
     "name": "stdout",
     "output_type": "stream",
     "text": [
      "{'location': {}, 'comment_count': 0, 'like_count': 34, 'caption': '#Repost @woowbike with @repostapp.\\n・・・\\nAveroy Island, Norway.\\n--- #cycling #mtb #sports #ride #fitness #biking #activelife #outsideisfree #bike #biking #outdoor #mountain #bic #eurovelo #greenroutes #health #urbancycling #mountainbike #mountainbiking #field #bicycling #bicyclelife #bicycleride #bicycle #bikelife #bikephoto #bikeride #ridingbike #instabike', 'created_time': datetime.datetime(2015, 8, 20, 11, 17, 21), 'username': 'bisikletizm', 'filter': 'Normal', 'user_id': '1944314479', 'comments': [], 'id': '1055701448903753879_1944314479', 'tags': ['outdoor', 'bicycle', 'bicycleride', 'ridingbike', 'urbancycling', 'bikeride', 'mountainbike', 'bic', 'mtb', 'instabike', 'repost', 'mountain', 'cycling', 'mountainbiking', 'bicycling', 'greenroutes', 'ride', 'outsideisfree', 'sports', 'field', 'bicyclelife', 'bike', 'health', 'eurovelo', 'fitness', 'bikephoto', 'activelife', 'biking', 'bikelife'], 'type': 'image'}\n",
      "\n",
      "{'location': {}, 'comment_count': 0, 'like_count': 14, 'caption': 'We care about the ants. :-) Three days left to the start of the Hillside AM Challenge 2015!\\xa0\\n25 km of the best technical trails in Gothenburg, Sweden.\\nCheers! /Leo & Natasja\\n#mtb #mountainbiking #mtbiking #cycling #mountainbike #enduro #singletrack #mtbracing #mtbrace #gothenburg #sweden #westsweden #goteborgcom #ride #bike #bicycle #bicycling #strava', 'created_time': datetime.datetime(2015, 8, 20, 11, 14, 29), 'username': 'leo_happy', 'filter': 'Normal', 'user_id': '217236131', 'comments': [], 'id': '1055700003786437327_217236131', 'tags': ['bike', 'strava', 'bicycle', 'mountainbike', 'westsweden', 'singletrack', 'mtbiking', 'goteborgcom', 'cycling', 'mountainbiking', 'bicycling', 'ride', 'sweden', 'mtbrace', 'mtb', 'gothenburg', 'mtbracing', 'enduro'], 'type': 'image'}\n",
      "\n",
      "{'location': {}, 'comment_count': 3, 'like_count': 109, 'caption': 'Averoy Island, Norway.\\n--- #cycling #mtb #sports #ride #fitness #biking #activelife #outsideisfree #bike #biking #outdoor #mountain #bic #eurovelo #greenroutes #health #urbancycling #mountainbike #mountainbiking #field #bicycling #bicyclelife #bicycleride #bicycle #bikelife #bikephoto #bikeride #ridingbike #instabike #sport', 'created_time': datetime.datetime(2015, 8, 20, 11, 6, 52), 'username': 'woowbike', 'filter': 'Normal', 'user_id': '1595287855', 'comments': [{'text': 'Uau!!!', 'created_time': datetime.datetime(2015, 8, 20, 11, 16, 7), 'username': 'hunterchicbymarta', 'user_id': '42095181'}, {'text': 'Sickkkk!!', 'created_time': datetime.datetime(2015, 8, 20, 11, 28, 9), 'username': 'thatserrday', 'user_id': '205727431'}, {'text': 'Sick Shot', 'created_time': datetime.datetime(2015, 8, 20, 11, 35, 12), 'username': 'vestigiumleones', 'user_id': '56115600'}], 'id': '1055696176871678091_1595287855', 'tags': ['outdoor', 'bicycle', 'bicycleride', 'ridingbike', 'urbancycling', 'bikeride', 'mountainbike', 'bic', 'mtb', 'instabike', 'sport', 'mountain', 'cycling', 'mountainbiking', 'bicycling', 'greenroutes', 'ride', 'outsideisfree', 'sports', 'field', 'bicyclelife', 'bike', 'health', 'eurovelo', 'fitness', 'bikephoto', 'activelife', 'biking', 'bikelife'], 'type': 'image'}\n"
     ]
    }
   ],
   "source": [
    "## see what's in there\n",
    "\n",
    "print(data[0])\n",
    "print ('')\n",
    "print(data[1])\n",
    "print ('')\n",
    "print(data[2])"
   ]
  },
  {
   "cell_type": "code",
   "execution_count": null,
   "metadata": {
    "collapsed": false
   },
   "outputs": [],
   "source": []
  },
  {
   "cell_type": "code",
   "execution_count": 11,
   "metadata": {
    "collapsed": false
   },
   "outputs": [
    {
     "name": "stdout",
     "output_type": "stream",
     "text": [
      "2015-08-20 11:17:21\n",
      "2015-08-20 11:14:29\n",
      "2015-08-20 11:06:52\n",
      "2015-08-20 10:58:42\n",
      "2015-08-20 10:46:07\n",
      "2015-08-20 10:44:12\n",
      "2015-08-20 10:23:47\n",
      "2015-08-20 10:12:07\n",
      "2015-08-20 09:18:44\n",
      "2015-08-20 09:09:35\n"
     ]
    }
   ],
   "source": [
    "for item in data[:10]:\n",
    "    print(item['created_time'])"
   ]
  },
  {
   "cell_type": "code",
   "execution_count": 12,
   "metadata": {
    "collapsed": false
   },
   "outputs": [
    {
     "name": "stdout",
     "output_type": "stream",
     "text": [
      "2015-06-27 04:14:21\n",
      "2015-06-27 04:10:47\n",
      "2015-06-27 03:51:34\n",
      "2015-06-27 03:45:57\n",
      "2015-06-27 02:59:50\n",
      "2015-06-27 02:52:24\n",
      "2015-06-27 02:50:14\n",
      "2015-06-27 02:41:21\n",
      "2015-06-27 02:40:43\n",
      "2015-06-27 02:39:00\n"
     ]
    }
   ],
   "source": [
    "for item in data[-10:]:\n",
    "    print(item['created_time'])"
   ]
  },
  {
   "cell_type": "code",
   "execution_count": null,
   "metadata": {
    "collapsed": false
   },
   "outputs": [],
   "source": []
  },
  {
   "cell_type": "code",
   "execution_count": null,
   "metadata": {
    "collapsed": false
   },
   "outputs": [],
   "source": []
  },
  {
   "cell_type": "code",
   "execution_count": null,
   "metadata": {
    "collapsed": true
   },
   "outputs": [],
   "source": []
  },
  {
   "cell_type": "code",
   "execution_count": null,
   "metadata": {
    "collapsed": false
   },
   "outputs": [],
   "source": []
  },
  {
   "cell_type": "code",
   "execution_count": null,
   "metadata": {
    "collapsed": false
   },
   "outputs": [],
   "source": []
  },
  {
   "cell_type": "code",
   "execution_count": null,
   "metadata": {
    "collapsed": false
   },
   "outputs": [],
   "source": []
  },
  {
   "cell_type": "code",
   "execution_count": null,
   "metadata": {
    "collapsed": true
   },
   "outputs": [],
   "source": []
  }
 ],
 "metadata": {
  "kernelspec": {
   "display_name": "Python 3",
   "language": "python",
   "name": "python3"
  },
  "language_info": {
   "codemirror_mode": {
    "name": "ipython",
    "version": 3
   },
   "file_extension": ".py",
   "mimetype": "text/x-python",
   "name": "python",
   "nbconvert_exporter": "python",
   "pygments_lexer": "ipython3",
   "version": "3.3.5"
  }
 },
 "nbformat": 4,
 "nbformat_minor": 0
}
