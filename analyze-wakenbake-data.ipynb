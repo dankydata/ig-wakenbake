{
 "cells": [
  {
   "cell_type": "code",
   "execution_count": 1,
   "metadata": {
    "collapsed": true
   },
   "outputs": [],
   "source": [
    "## pulling from mongo db\n",
    "from pymongo import MongoClient"
   ]
  },
  {
   "cell_type": "code",
   "execution_count": 2,
   "metadata": {
    "collapsed": true
   },
   "outputs": [],
   "source": [
    "hashtagToPull = 'wakenbake'"
   ]
  },
  {
   "cell_type": "code",
   "execution_count": 3,
   "metadata": {
    "collapsed": true
   },
   "outputs": [],
   "source": [
    "client = MongoClient('mongodb://localhost:27017/')\n",
    "db = client['instagram']\n",
    "collectionName = hashtagToPull + '-tags'\n",
    "collection = db[collectionName]"
   ]
  },
  {
   "cell_type": "code",
   "execution_count": 4,
   "metadata": {
    "collapsed": true
   },
   "outputs": [],
   "source": [
    "media = collection.find() ## pull entire document store"
   ]
  },
  {
   "cell_type": "code",
   "execution_count": null,
   "metadata": {
    "collapsed": true
   },
   "outputs": [],
   "source": []
  },
  {
   "cell_type": "code",
   "execution_count": 5,
   "metadata": {
    "collapsed": false
   },
   "outputs": [],
   "source": [
    "## map only categories we need\n",
    "mediaArr = []\n",
    "for item in media:\n",
    "    record = {}\n",
    "    record['id'] = item['id']\n",
    "    record['username'] = item['username']\n",
    "    record['type'] = item['type']\n",
    "    record['filter'] = item['filter']\n",
    "    record['like_count'] = item['like_count']\n",
    "    record['comment_count'] = item['comment_count']\n",
    "    record['created_time'] = item['created_time']\n",
    "    \n",
    "    record['location.lat'] = \"\"\n",
    "    record['location.lon'] = \"\"\n",
    "    if len(item['location']) > 0:\n",
    "        record['location.lat'] = item['location']['latitude']\n",
    "        record['location.lon'] = item['location']['longitude']\n",
    "    \n",
    "    \n",
    "    mediaArr.append(record)"
   ]
  },
  {
   "cell_type": "code",
   "execution_count": null,
   "metadata": {
    "collapsed": true
   },
   "outputs": [],
   "source": []
  },
  {
   "cell_type": "code",
   "execution_count": 6,
   "metadata": {
    "collapsed": true
   },
   "outputs": [],
   "source": [
    "import pandas as pd\n",
    "import numpy as np\n",
    "import matplotlib as mpl\n",
    "import matplotlib.pyplot as plt\n",
    "import seaborn as sns\n",
    "%matplotlib inline"
   ]
  },
  {
   "cell_type": "code",
   "execution_count": null,
   "metadata": {
    "collapsed": true
   },
   "outputs": [],
   "source": []
  },
  {
   "cell_type": "code",
   "execution_count": 7,
   "metadata": {
    "collapsed": true
   },
   "outputs": [],
   "source": [
    "df = pd.DataFrame(mediaArr)"
   ]
  },
  {
   "cell_type": "code",
   "execution_count": 8,
   "metadata": {
    "collapsed": false
   },
   "outputs": [
    {
     "data": {
      "text/html": [
       "<div>\n",
       "<table border=\"1\" class=\"dataframe\">\n",
       "  <thead>\n",
       "    <tr style=\"text-align: right;\">\n",
       "      <th></th>\n",
       "      <th>comment_count</th>\n",
       "      <th>created_time</th>\n",
       "      <th>filter</th>\n",
       "      <th>id</th>\n",
       "      <th>like_count</th>\n",
       "      <th>location.lat</th>\n",
       "      <th>location.lon</th>\n",
       "      <th>type</th>\n",
       "      <th>username</th>\n",
       "    </tr>\n",
       "  </thead>\n",
       "  <tbody>\n",
       "    <tr>\n",
       "      <th>0</th>\n",
       "      <td>1</td>\n",
       "      <td>2015-08-14 18:56:14</td>\n",
       "      <td>Normal</td>\n",
       "      <td>1051583761891237133_1621796574</td>\n",
       "      <td>3</td>\n",
       "      <td></td>\n",
       "      <td></td>\n",
       "      <td>image</td>\n",
       "      <td>mystical_stoner</td>\n",
       "    </tr>\n",
       "    <tr>\n",
       "      <th>1</th>\n",
       "      <td>1</td>\n",
       "      <td>2015-08-14 18:55:17</td>\n",
       "      <td>Normal</td>\n",
       "      <td>1051583276660595965_1621796574</td>\n",
       "      <td>6</td>\n",
       "      <td></td>\n",
       "      <td></td>\n",
       "      <td>image</td>\n",
       "      <td>mystical_stoner</td>\n",
       "    </tr>\n",
       "    <tr>\n",
       "      <th>2</th>\n",
       "      <td>0</td>\n",
       "      <td>2015-08-14 18:54:44</td>\n",
       "      <td>Reyes</td>\n",
       "      <td>1051583000928241682_1147602737</td>\n",
       "      <td>0</td>\n",
       "      <td></td>\n",
       "      <td></td>\n",
       "      <td>image</td>\n",
       "      <td>misscontroless1</td>\n",
       "    </tr>\n",
       "    <tr>\n",
       "      <th>3</th>\n",
       "      <td>1</td>\n",
       "      <td>2015-08-14 18:54:06</td>\n",
       "      <td>Normal</td>\n",
       "      <td>1051582683891162307_519339662</td>\n",
       "      <td>8</td>\n",
       "      <td></td>\n",
       "      <td></td>\n",
       "      <td>image</td>\n",
       "      <td>saulsilver_</td>\n",
       "    </tr>\n",
       "    <tr>\n",
       "      <th>4</th>\n",
       "      <td>1</td>\n",
       "      <td>2015-08-14 18:50:53</td>\n",
       "      <td>Crema</td>\n",
       "      <td>1051581066892725208_1147602737</td>\n",
       "      <td>0</td>\n",
       "      <td></td>\n",
       "      <td></td>\n",
       "      <td>image</td>\n",
       "      <td>misscontroless1</td>\n",
       "    </tr>\n",
       "  </tbody>\n",
       "</table>\n",
       "</div>"
      ],
      "text/plain": [
       "   comment_count        created_time  filter                              id  \\\n",
       "0              1 2015-08-14 18:56:14  Normal  1051583761891237133_1621796574   \n",
       "1              1 2015-08-14 18:55:17  Normal  1051583276660595965_1621796574   \n",
       "2              0 2015-08-14 18:54:44   Reyes  1051583000928241682_1147602737   \n",
       "3              1 2015-08-14 18:54:06  Normal   1051582683891162307_519339662   \n",
       "4              1 2015-08-14 18:50:53   Crema  1051581066892725208_1147602737   \n",
       "\n",
       "   like_count location.lat location.lon   type         username  \n",
       "0           3                            image  mystical_stoner  \n",
       "1           6                            image  mystical_stoner  \n",
       "2           0                            image  misscontroless1  \n",
       "3           8                            image      saulsilver_  \n",
       "4           0                            image  misscontroless1  "
      ]
     },
     "execution_count": 8,
     "metadata": {},
     "output_type": "execute_result"
    }
   ],
   "source": [
    "df.head()"
   ]
  },
  {
   "cell_type": "code",
   "execution_count": null,
   "metadata": {
    "collapsed": true
   },
   "outputs": [],
   "source": []
  },
  {
   "cell_type": "code",
   "execution_count": 9,
   "metadata": {
    "collapsed": false
   },
   "outputs": [
    {
     "name": "stdout",
     "output_type": "stream",
     "text": [
      "5650\n"
     ]
    }
   ],
   "source": [
    "## count location tags\n",
    "count = 0\n",
    "for item in mediaArr:\n",
    "    if item['location.lat'] != '':\n",
    "        count+=1\n",
    "        \n",
    "print (count)"
   ]
  },
  {
   "cell_type": "code",
   "execution_count": null,
   "metadata": {
    "collapsed": true
   },
   "outputs": [],
   "source": []
  }
 ],
 "metadata": {
  "kernelspec": {
   "display_name": "Python 3",
   "language": "python",
   "name": "python3"
  },
  "language_info": {
   "codemirror_mode": {
    "name": "ipython",
    "version": 3
   },
   "file_extension": ".py",
   "mimetype": "text/x-python",
   "name": "python",
   "nbconvert_exporter": "python",
   "pygments_lexer": "ipython3",
   "version": "3.3.5"
  }
 },
 "nbformat": 4,
 "nbformat_minor": 0
}
