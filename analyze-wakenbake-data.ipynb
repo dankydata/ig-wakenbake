{
 "cells": [
  {
   "cell_type": "code",
   "execution_count": 1,
   "metadata": {
    "collapsed": false
   },
   "outputs": [],
   "source": [
    "## running spark locally\n",
    "from pyspark import SparkContext\n",
    "sc = SparkContext()"
   ]
  },
  {
   "cell_type": "code",
   "execution_count": null,
   "metadata": {
    "collapsed": true
   },
   "outputs": [],
   "source": []
  },
  {
   "cell_type": "code",
   "execution_count": 2,
   "metadata": {
    "collapsed": true
   },
   "outputs": [],
   "source": [
    "## pulling from mongo db\n",
    "from pymongo import MongoClient"
   ]
  },
  {
   "cell_type": "code",
   "execution_count": 20,
   "metadata": {
    "collapsed": true
   },
   "outputs": [],
   "source": [
    "hashtagToPull = 'wakenbake'"
   ]
  },
  {
   "cell_type": "code",
   "execution_count": 21,
   "metadata": {
    "collapsed": true
   },
   "outputs": [],
   "source": [
    "## connect and query\n",
    "client = MongoClient('mongodb://localhost:27017/')\n",
    "db = client['instagram']\n",
    "collectionName = hashtagToPull + '-tags'\n",
    "collection = db[collectionName]\n",
    "media = collection.find() ## pull entire document store"
   ]
  },
  {
   "cell_type": "code",
   "execution_count": null,
   "metadata": {
    "collapsed": true
   },
   "outputs": [],
   "source": []
  },
  {
   "cell_type": "code",
   "execution_count": 22,
   "metadata": {
    "collapsed": false
   },
   "outputs": [],
   "source": [
    "## load into Spark\n",
    "mediaRDD = sc.parallelize(media)"
   ]
  },
  {
   "cell_type": "code",
   "execution_count": 23,
   "metadata": {
    "collapsed": false,
    "scrolled": true
   },
   "outputs": [
    {
     "name": "stdout",
     "output_type": "stream",
     "text": [
      "[{'comments': [{'user_id': '1621796574', 'username': 'mystical_stoner', 'created_time': datetime.datetime(2015, 8, 14, 18, 56, 24), 'text': '#Pothead #Stoner #Stoners #highaf #staylifted #cannabis #gethigh #marijuana #Calistoner #stayhigh #Weshouldsmoke #instaweed #stoned #cannabiscommunity #cannabisculture #potheadsociety #fueledbythc #getlifted #potheads #letssmoke #highsociety #instahigh #potheads #plant #highlife #hightimes #wakenbake #dank #weedstagram #blowingclouds'}], 'tags': ['highsociety', 'plant', 'stoner', 'stoners', 'gethigh', 'instahigh', 'marijuana', 'cannabisculture', 'staylifted', 'cannabiscommunity', 'stoned', 'weshouldsmoke', 'pothead', 'fueledbythc', 'weedstagram', 'potheadsociety', 'hightimes', 'getlifted', 'potheads', 'calistoner', 'instaweed', 'letssmoke', 'cannabis', 'stayhigh', 'dank', 'highaf', 'blowingclouds', 'wakenbake', 'highlife'], 'filter': 'Normal', 'username': 'mystical_stoner', 'like_count': 3, 'type': 'image', 'user_id': '1621796574', 'caption': 'All of you :)', 'comment_count': 1, 'location': {}, 'id': '1051583761891237133_1621796574', 'created_time': datetime.datetime(2015, 8, 14, 18, 56, 14), '_id': ObjectId('55ce3ef37795d40ecab46ad1')}]\n"
     ]
    }
   ],
   "source": [
    "print (mediaRDD.take(1))"
   ]
  },
  {
   "cell_type": "code",
   "execution_count": null,
   "metadata": {
    "collapsed": false
   },
   "outputs": [],
   "source": []
  },
  {
   "cell_type": "markdown",
   "metadata": {},
   "source": [
    "## Find most popular tags"
   ]
  },
  {
   "cell_type": "code",
   "execution_count": 24,
   "metadata": {
    "collapsed": false
   },
   "outputs": [],
   "source": [
    "allTags = (mediaRDD\n",
    "           .map(lambda x: x['tags'])\n",
    "           .flatMap(lambda x: x))"
   ]
  },
  {
   "cell_type": "code",
   "execution_count": 25,
   "metadata": {
    "collapsed": false
   },
   "outputs": [],
   "source": [
    "countTags = (allTags\n",
    "             .map(lambda x: (x.lower(), 1))\n",
    "             .reduceByKey(lambda a, b: a + b))"
   ]
  },
  {
   "cell_type": "code",
   "execution_count": 26,
   "metadata": {
    "collapsed": false
   },
   "outputs": [
    {
     "data": {
      "text/plain": [
       "[('wakenbake', 49947),\n",
       " ('420', 20737),\n",
       " ('highsociety', 12122),\n",
       " ('weedstagram', 11439),\n",
       " ('highlife', 10741),\n",
       " ('cannabis', 10477),\n",
       " ('maryjane', 10003),\n",
       " ('hightimes', 9573),\n",
       " ('cannabiscommunity', 9526),\n",
       " ('stoner', 9485),\n",
       " ('dank', 9334),\n",
       " ('kush', 9103),\n",
       " ('marijuana', 9057),\n",
       " ('710', 8905),\n",
       " ('ganja', 8711),\n",
       " ('dabs', 7922),\n",
       " ('thc', 7914),\n",
       " ('weedporn', 7746),\n",
       " ('stonernation', 7108),\n",
       " ('topshelflife', 6960)]"
      ]
     },
     "execution_count": 26,
     "metadata": {},
     "output_type": "execute_result"
    }
   ],
   "source": [
    "countTags.takeOrdered(20, key=lambda b: -b[1])"
   ]
  },
  {
   "cell_type": "code",
   "execution_count": null,
   "metadata": {
    "collapsed": true
   },
   "outputs": [],
   "source": []
  },
  {
   "cell_type": "code",
   "execution_count": null,
   "metadata": {
    "collapsed": true
   },
   "outputs": [],
   "source": []
  },
  {
   "cell_type": "markdown",
   "metadata": {
    "collapsed": true
   },
   "source": [
    "##Number of unique users / User posts"
   ]
  },
  {
   "cell_type": "code",
   "execution_count": 27,
   "metadata": {
    "collapsed": false
   },
   "outputs": [],
   "source": [
    "uniqueUsers = (mediaRDD\n",
    "               .map(lambda x: (x['username'], 1))\n",
    "               .reduceByKey(lambda a, b: a + b))"
   ]
  },
  {
   "cell_type": "code",
   "execution_count": 28,
   "metadata": {
    "collapsed": false
   },
   "outputs": [
    {
     "data": {
      "text/plain": [
       "13804"
      ]
     },
     "execution_count": 28,
     "metadata": {},
     "output_type": "execute_result"
    }
   ],
   "source": [
    "uniqueUsers.count()"
   ]
  },
  {
   "cell_type": "code",
   "execution_count": 29,
   "metadata": {
    "collapsed": false
   },
   "outputs": [
    {
     "data": {
      "text/plain": [
       "[('420divas', 493),\n",
       " ('420_newsletter', 485),\n",
       " ('nochillmemecentral', 479),\n",
       " ('blazedoutlondon', 418),\n",
       " ('bobaleex', 351),\n",
       " ('maryjanebz', 311),\n",
       " ('ybcollective408', 274),\n",
       " ('hankayrec', 255),\n",
       " ('plpcsanjose', 251),\n",
       " ('just.paul.mate', 244),\n",
       " ('al_deggo', 235),\n",
       " ('officialsmokahonest', 217),\n",
       " ('50strainsofdank', 213),\n",
       " ('browneyed_toker', 205),\n",
       " ('super_star_stone', 198),\n",
       " ('ukstonerbros', 167),\n",
       " ('weednatic420', 162),\n",
       " ('amannda_420', 162),\n",
       " ('lionprideja', 160),\n",
       " ('greensocietyss', 152)]"
      ]
     },
     "execution_count": 29,
     "metadata": {},
     "output_type": "execute_result"
    }
   ],
   "source": [
    "## top users\n",
    "uniqueUsers.takeOrdered(20, key=lambda b: -b[1])"
   ]
  },
  {
   "cell_type": "code",
   "execution_count": null,
   "metadata": {
    "collapsed": false
   },
   "outputs": [],
   "source": []
  },
  {
   "cell_type": "code",
   "execution_count": null,
   "metadata": {
    "collapsed": true
   },
   "outputs": [],
   "source": []
  },
  {
   "cell_type": "code",
   "execution_count": null,
   "metadata": {
    "collapsed": true
   },
   "outputs": [],
   "source": []
  },
  {
   "cell_type": "code",
   "execution_count": null,
   "metadata": {
    "collapsed": true
   },
   "outputs": [],
   "source": []
  },
  {
   "cell_type": "code",
   "execution_count": null,
   "metadata": {
    "collapsed": true
   },
   "outputs": [],
   "source": []
  }
 ],
 "metadata": {
  "kernelspec": {
   "display_name": "Python 3",
   "language": "python",
   "name": "python3"
  },
  "language_info": {
   "codemirror_mode": {
    "name": "ipython",
    "version": 3
   },
   "file_extension": ".py",
   "mimetype": "text/x-python",
   "name": "python",
   "nbconvert_exporter": "python",
   "pygments_lexer": "ipython3",
   "version": "3.3.5"
  }
 },
 "nbformat": 4,
 "nbformat_minor": 0
}
